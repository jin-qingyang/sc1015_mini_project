{
 "cells": [
  {
   "cell_type": "markdown",
   "source": [
    "---"
   ],
   "metadata": {
    "collapsed": false
   }
  },
  {
   "cell_type": "markdown",
   "source": [
    "### 1.Problem Definition"
   ],
   "metadata": {
    "collapsed": false
   }
  },
  {
   "cell_type": "markdown",
   "source": [
    "Predict the Global_Sale\n",
    "1. Analyse the importance of features that can be of help in increasing the global sales"
   ],
   "metadata": {
    "collapsed": false
   }
  },
  {
   "cell_type": "markdown",
   "source": [
    "---"
   ],
   "metadata": {
    "collapsed": false
   }
  },
  {
   "cell_type": "markdown",
   "source": [
    "### 2.Dataset Preview"
   ],
   "metadata": {
    "collapsed": false
   }
  },
  {
   "cell_type": "code",
   "execution_count": null,
   "outputs": [],
   "source": [
    "import numpy as np\n",
    "import pandas as pd\n",
    "import seaborn as sb\n",
    "import matplotlib.pyplot as plt\n",
    "sb.set()"
   ],
   "metadata": {
    "collapsed": false,
    "pycharm": {
     "is_executing": true
    }
   }
  },
  {
   "cell_type": "code",
   "execution_count": null,
   "id": "643a83b1",
   "metadata": {
    "id": "643a83b1",
    "outputId": "180c1fd9-445e-4c9c-cc54-1b6da10e2038",
    "pycharm": {
     "is_executing": true
    }
   },
   "outputs": [],
   "source": [
    "videoGames=pd.read_csv(\"Video_Games.csv\")\n",
    "videoGames.head()"
   ]
  },
  {
   "cell_type": "code",
   "execution_count": null,
   "id": "65101661",
   "metadata": {
    "id": "65101661",
    "outputId": "d188ba56-f5ac-4cfa-e4b1-1e725e9112ef",
    "pycharm": {
     "is_executing": true
    }
   },
   "outputs": [],
   "source": [
    "videoGames.info()"
   ]
  },
  {
   "cell_type": "markdown",
   "source": [
    "---"
   ],
   "metadata": {
    "collapsed": false
   }
  },
  {
   "cell_type": "markdown",
   "id": "ccffde38",
   "metadata": {
    "id": "ccffde38"
   },
   "source": [
    "### 3.Data Cleaning / Preparation"
   ]
  },
  {
   "cell_type": "code",
   "execution_count": null,
   "id": "e6a60cab",
   "metadata": {
    "id": "e6a60cab",
    "outputId": "5f59e6df-a7a0-46c6-9ab7-320ed9f84785",
    "pycharm": {
     "is_executing": true
    }
   },
   "outputs": [],
   "source": [
    "videoGamesSelected=pd.DataFrame(videoGames[['Platform','Genre','Publisher','Critic_Score','Global_Sales','User_Score','Rating']])\n",
    "videoGamesSelected = videoGamesSelected[videoGamesSelected.User_Score != \"tbd\"]\n",
    "videoGamesSelected[\"User_Score\"] = pd.to_numeric(videoGamesSelected[\"User_Score\"])\n",
    "videoGamesSelected"
   ]
  },
  {
   "cell_type": "code",
   "execution_count": null,
   "id": "cdf3de9f",
   "metadata": {
    "id": "cdf3de9f",
    "outputId": "945159d2-5561-43f9-ea6d-c72a4c7c123d",
    "pycharm": {
     "is_executing": true
    }
   },
   "outputs": [],
   "source": [
    "for i in videoGamesSelected:\n",
    "    print(i, videoGamesSelected[i].isnull().sum())"
   ]
  },
  {
   "cell_type": "code",
   "execution_count": null,
   "id": "1946cb9a",
   "metadata": {
    "id": "1946cb9a",
    "outputId": "d7483041-4459-459d-f893-e224edbcf4d3",
    "pycharm": {
     "is_executing": true
    }
   },
   "outputs": [],
   "source": [
    "videoGamesSelectedCleaned=pd.DataFrame(videoGamesSelected[~videoGamesSelected\n",
    "                                                          ['Critic_Score'].isnull() &\n",
    "                                                         ~videoGamesSelected\n",
    "                                                          ['Publisher'].isnull() &\n",
    "                                                         ~videoGamesSelected\n",
    "                                                          ['Genre'].isnull() &\n",
    "                                                          ~videoGamesSelected\n",
    "                                                          ['User_Score'].isnull() &\n",
    "                                                          ~videoGamesSelected\n",
    "                                                          ['Rating'].isnull()])\n",
    "videoGamesSelectedCleaned"
   ]
  },
  {
   "cell_type": "code",
   "execution_count": null,
   "id": "9291bae8",
   "metadata": {
    "id": "9291bae8",
    "outputId": "57fceaa3-e333-491d-88c1-fda05eaaa931",
    "pycharm": {
     "is_executing": true
    }
   },
   "outputs": [],
   "source": [
    "for i in videoGamesSelectedCleaned:\n",
    "    print(i, videoGamesSelectedCleaned[i].isnull().sum())"
   ]
  },
  {
   "cell_type": "markdown",
   "source": [
    "---"
   ],
   "metadata": {
    "collapsed": false
   }
  },
  {
   "cell_type": "markdown",
   "id": "36bec7b1",
   "metadata": {
    "id": "36bec7b1"
   },
   "source": [
    "### 4.Data Analysis / Visualisation"
   ]
  },
  {
   "cell_type": "markdown",
   "id": "07157eed",
   "metadata": {},
   "source": [
    "## For Rating"
   ]
  },
  {
   "cell_type": "code",
   "execution_count": null,
   "id": "231422e9",
   "metadata": {
    "pycharm": {
     "is_executing": true
    }
   },
   "outputs": [],
   "source": [
    "videoGamesSelectedCleaned['Rating'].unique()"
   ]
  },
  {
   "cell_type": "markdown",
   "id": "df92bd08",
   "metadata": {},
   "source": [
    "## For Genre"
   ]
  },
  {
   "cell_type": "code",
   "execution_count": null,
   "id": "207c47cb",
   "metadata": {
    "pycharm": {
     "is_executing": true
    }
   },
   "outputs": [],
   "source": [
    "videoGamesSelectedCleaned['Genre'].unique()"
   ]
  },
  {
   "cell_type": "markdown",
   "id": "245f762e",
   "metadata": {
    "id": "245f762e"
   },
   "source": [
    "## For Publisher"
   ]
  },
  {
   "cell_type": "code",
   "execution_count": null,
   "id": "16887a08",
   "metadata": {
    "id": "16887a08",
    "outputId": "b229e297-25c5-4c9c-c8a7-deec4a0c0659",
    "pycharm": {
     "is_executing": true
    }
   },
   "outputs": [],
   "source": [
    "videoGamesSelectedCleaned['Publisher'].nunique()\n",
    "videoGamesSelectedCleaned['Publisher'].unique()"
   ]
  },
  {
   "cell_type": "code",
   "execution_count": null,
   "id": "88cb21de",
   "metadata": {
    "id": "88cb21de",
    "outputId": "5971e69e-c743-4a39-f9f5-d6eef3299509",
    "pycharm": {
     "is_executing": true
    }
   },
   "outputs": [],
   "source": [
    "videoGamesPublisher=videoGamesSelectedCleaned.groupby('Publisher')\n",
    "videoGamesPublisher=videoGamesPublisher.filter(lambda x:len(x)>=50)\n",
    "videoGamesPublisher"
   ]
  },
  {
   "cell_type": "code",
   "execution_count": null,
   "id": "903728bc",
   "metadata": {
    "id": "903728bc",
    "outputId": "f50155e5-243d-4e90-ab78-793d12de869c",
    "pycharm": {
     "is_executing": true
    }
   },
   "outputs": [],
   "source": [
    "f=plt.figure(figsize=(21,21))\n",
    "sb.boxplot(x='Global_Sales', y = 'Publisher', orient='h', data = videoGamesPublisher)"
   ]
  },
  {
   "cell_type": "code",
   "execution_count": null,
   "id": "1da95980",
   "metadata": {
    "id": "1da95980",
    "pycharm": {
     "is_executing": true
    }
   },
   "outputs": [],
   "source": [
    "def right(s):\n",
    "    Q1=s.quantile(0.25)\n",
    "    Q3=s.quantile(0.75)\n",
    "    IQR=Q3-Q1\n",
    "    return Q3+IQR\n",
    "    \n",
    "def left(s):\n",
    "    Q1=s.quantile(0.25)\n",
    "    Q3=s.quantile(0.75)\n",
    "    IQR=Q3-Q1\n",
    "    return Q1-IQR"
   ]
  },
  {
   "cell_type": "markdown",
   "id": "5e96f1e7",
   "metadata": {
    "id": "5e96f1e7"
   },
   "source": [
    "## For companies with over 50 sales"
   ]
  },
  {
   "cell_type": "code",
   "execution_count": null,
   "id": "5985615b",
   "metadata": {
    "id": "5985615b",
    "pycharm": {
     "is_executing": true
    }
   },
   "outputs": [],
   "source": [
    "def removeOutliers(df,predictor,response):\n",
    "    videoGamesPublisherGrouped=df.groupby(predictor)#['Global_Sales']\n",
    "    whiskers=videoGamesPublisherGrouped[response].apply(lambda x: [left(x),right(x)]).apply(pd.Series)\n",
    "    whiskers.columns=['left','right']\n",
    "    merge=pd.merge(df,whiskers,on=predictor)\n",
    "    videoGamesPublisherGrouped=merge[(merge[response]<=(merge['right'])) &\n",
    "                                     (merge[response]>=(merge['left']))]\n",
    "    f=plt.figure(figsize=(21,21))\n",
    "    sb.boxplot(x=response, y = predictor, orient='h', data = videoGamesPublisherGrouped, \n",
    "          order= videoGamesPublisherGrouped.groupby(predictor)[response].median().sort_values(ascending=False).index)"
   ]
  },
  {
   "cell_type": "markdown",
   "id": "NfE_BATgq0Hh",
   "metadata": {
    "id": "NfE_BATgq0Hh"
   },
   "source": [
    "## not complete but I think this can only be applied to numeric data i.e. critic score\n",
    "def checkSkew(df,predictor):\n",
    "  groupedDf=df.groupby(predictor)\n",
    "  uniquePredictors=df[predictor].unique()\n",
    "  for i in uniquePredictors:\n",
    "    print(i, groupedDf[i].skew())"
   ]
  },
  {
   "cell_type": "code",
   "execution_count": null,
   "id": "f27d0bc8",
   "metadata": {
    "id": "f27d0bc8",
    "outputId": "e1e979b1-4aaa-49a8-f6a5-c2398b6a3ae3",
    "pycharm": {
     "is_executing": true
    }
   },
   "outputs": [],
   "source": [
    "removeOutliers(videoGamesPublisher,'Publisher','Global_Sales')"
   ]
  },
  {
   "cell_type": "markdown",
   "id": "2976326c",
   "metadata": {
    "id": "2976326c"
   },
   "source": [
    "## reasonable distinctness?"
   ]
  },
  {
   "cell_type": "markdown",
   "id": "60eb55c4",
   "metadata": {
    "id": "60eb55c4"
   },
   "source": [
    "## For Genre"
   ]
  },
  {
   "cell_type": "code",
   "execution_count": null,
   "id": "6bed90e9",
   "metadata": {
    "id": "6bed90e9",
    "outputId": "89553911-2c3b-45c6-ef5c-d239b9c39590",
    "pycharm": {
     "is_executing": true
    }
   },
   "outputs": [],
   "source": [
    "videoGamesSelectedCleaned['Genre'].nunique()"
   ]
  },
  {
   "cell_type": "code",
   "execution_count": null,
   "id": "2b76a6bf",
   "metadata": {
    "id": "2b76a6bf",
    "outputId": "9f64bd5e-dae6-4c09-9fe3-d16ff45d1ac0",
    "pycharm": {
     "is_executing": true
    }
   },
   "outputs": [],
   "source": [
    "f=plt.figure(figsize=(21,21))\n",
    "sb.boxplot(x='Global_Sales', y = 'Genre', orient='h', data = videoGamesSelectedCleaned, \n",
    "          order= videoGamesSelectedCleaned.groupby('Genre')['Global_Sales'].median().sort_values(ascending=False).index)\n"
   ]
  },
  {
   "cell_type": "code",
   "execution_count": null,
   "id": "57899415",
   "metadata": {
    "id": "57899415",
    "outputId": "426a70b5-3ec6-4118-bf6e-910d612020f2",
    "pycharm": {
     "is_executing": true
    }
   },
   "outputs": [],
   "source": [
    "removeOutliers(videoGamesSelectedCleaned,'Genre','Global_Sales')"
   ]
  },
  {
   "cell_type": "markdown",
   "id": "e128a7e6",
   "metadata": {
    "id": "e128a7e6"
   },
   "source": [
    "## reasonable distinctness?"
   ]
  },
  {
   "cell_type": "markdown",
   "id": "10c881a4",
   "metadata": {
    "id": "10c881a4"
   },
   "source": [
    "## For platform"
   ]
  },
  {
   "cell_type": "code",
   "execution_count": null,
   "id": "87a66e36",
   "metadata": {
    "id": "87a66e36",
    "outputId": "e2614297-2077-4f55-c691-f90576667875",
    "pycharm": {
     "is_executing": true
    }
   },
   "outputs": [],
   "source": [
    "videoGamesSelectedCleaned['Platform'].nunique()"
   ]
  },
  {
   "cell_type": "code",
   "execution_count": null,
   "id": "a85350a9",
   "metadata": {
    "id": "a85350a9",
    "outputId": "15adf9db-ee28-4c3c-93c0-200fc225a6dd",
    "pycharm": {
     "is_executing": true
    }
   },
   "outputs": [],
   "source": [
    "f=plt.figure(figsize=(21,21))\n",
    "sb.boxplot(x='Global_Sales', y = 'Platform', orient='h', data = videoGamesSelectedCleaned, \n",
    "          order= videoGamesSelectedCleaned.groupby('Platform')['Global_Sales'].median().sort_values(ascending=False).index)\n"
   ]
  },
  {
   "cell_type": "code",
   "execution_count": null,
   "id": "53bf48e7",
   "metadata": {
    "id": "53bf48e7",
    "outputId": "49abefa1-674c-4f3c-b8a2-ffe8af67c5b4",
    "pycharm": {
     "is_executing": true
    }
   },
   "outputs": [],
   "source": [
    "removeOutliers(videoGamesSelectedCleaned,'Platform','Global_Sales')"
   ]
  },
  {
   "cell_type": "markdown",
   "id": "c54bf2bf",
   "metadata": {
    "id": "c54bf2bf"
   },
   "source": [
    "## somewhat promising"
   ]
  },
  {
   "cell_type": "markdown",
   "id": "7320151e",
   "metadata": {
    "id": "7320151e"
   },
   "source": [
    "## For critic score"
   ]
  },
  {
   "cell_type": "code",
   "execution_count": null,
   "id": "210d370b",
   "metadata": {
    "id": "210d370b",
    "pycharm": {
     "is_executing": true
    }
   },
   "outputs": [],
   "source": [
    "scoreSales=videoGamesSelectedCleaned[['Critic_Score','Global_Sales']]"
   ]
  },
  {
   "cell_type": "code",
   "execution_count": null,
   "id": "0a7d33cd",
   "metadata": {
    "id": "0a7d33cd",
    "outputId": "cc0626b9-3611-46dc-aed4-c78ce042583a",
    "pycharm": {
     "is_executing": true
    }
   },
   "outputs": [],
   "source": [
    "scoreSales.corr()"
   ]
  },
  {
   "cell_type": "code",
   "execution_count": null,
   "outputs": [],
   "source": [
    "plt.figure(figsize=(20, 20))\n",
    "sb.scatterplot(videoGamesSelectedCleaned, y = \"Critic_Score\", x = \"Global_Sales\")"
   ],
   "metadata": {
    "collapsed": false,
    "pycharm": {
     "is_executing": true
    }
   }
  },
  {
   "cell_type": "code",
   "execution_count": null,
   "id": "6c5924c8",
   "metadata": {
    "id": "6c5924c8",
    "outputId": "3024d3df-c8c6-4e2b-8329-b3b99bbde5a8",
    "pycharm": {
     "is_executing": true
    }
   },
   "outputs": [],
   "source": [
    "sb.kdeplot(data=scoreSales['Critic_Score'])"
   ]
  },
  {
   "cell_type": "markdown",
   "id": "470d2239",
   "metadata": {
    "id": "470d2239"
   },
   "source": [
    "## got .25 corr not great"
   ]
  },
  {
   "cell_type": "markdown",
   "id": "44c0742b",
   "metadata": {},
   "source": [
    "\n",
    "# userscore corr"
   ]
  },
  {
   "cell_type": "code",
   "execution_count": null,
   "id": "4d349538",
   "metadata": {
    "pycharm": {
     "is_executing": true
    }
   },
   "outputs": [],
   "source": [
    "scoreSales=videoGamesSelectedCleaned[['User_Score','Global_Sales']]\n",
    "scoreSales.corr()\n"
   ]
  },
  {
   "cell_type": "markdown",
   "id": "beef476b",
   "metadata": {},
   "source": [
    "# predict global sales by critic score\n",
    "\n"
   ]
  },
  {
   "cell_type": "code",
   "execution_count": null,
   "id": "561e9dd0",
   "metadata": {
    "pycharm": {
     "is_executing": true
    }
   },
   "outputs": [],
   "source": [
    "# Import essential models and functions from sklearn\n",
    "from sklearn.linear_model import LinearRegression\n",
    "from sklearn.model_selection import train_test_split\n",
    "from sklearn.metrics import mean_squared_error\n",
    "\n",
    "# Mean Squared Error (MSE)\n",
    "def mean_sq_err(actual, predicted):\n",
    "    '''Returns the Mean Squared Error of actual and predicted values'''\n",
    "    return np.mean(np.square(np.array(actual) - np.array(predicted)))\n",
    "\n",
    "# Create a Linear Regression object\n",
    "linreg = LinearRegression()\n",
    "\n",
    "\n",
    "\n",
    "train = videoGamesSelectedCleaned.sample(frac=.8)\n",
    "test = videoGamesSelectedCleaned.drop(train.index)\n",
    "\n",
    "\n",
    "cs_train = pd.DataFrame(train['Critic_Score'])\n",
    "cs_test = pd.DataFrame(test['Critic_Score'])\n",
    "gs_train = pd.DataFrame(train['Global_Sales'])\n",
    "gs_test = pd.DataFrame(test['Global_Sales'])\n"
   ]
  },
  {
   "cell_type": "code",
   "execution_count": null,
   "id": "5b98090f",
   "metadata": {
    "pycharm": {
     "is_executing": true
    }
   },
   "outputs": [],
   "source": [
    "\n",
    "linreg.fit(cs_train, gs_train)\n",
    "# Coefficients of the Linear Regression line\n",
    "print('Intercept of Regression \\t: b = ', linreg.intercept_)\n",
    "print('Coefficients of Regression \\t: a = ', linreg.coef_)\n",
    "print()\n",
    "\n",
    "# Predict Total values corresponding to HP\n",
    "gs_train_pred = linreg.predict(cs_train)\n",
    "gs_test_pred = linreg.predict(cs_test)\n",
    "\n",
    "# Check the Goodness of Fit (on Train Data)\n",
    "print(\"Goodness of Fit of Model \\tTrain Dataset\")\n",
    "print(\"Explained Variance (R^2) \\t:\", linreg.score(cs_train, gs_train))\n",
    "print(\"Mean Squared Error (MSE) \\t:\", mean_squared_error(gs_train, gs_train_pred))\n",
    "print()\n",
    "\n",
    "# Check the Goodness of Fit (on Test Data)\n",
    "print(\"Goodness of Fit of Model \\tTest Dataset\")\n",
    "print(\"Explained Variance (R^2) \\t:\", linreg.score(cs_test, gs_test))\n",
    "print(\"Mean Squared Error (MSE) \\t:\", mean_squared_error(gs_test, gs_test_pred))\n",
    "print()\n",
    "\n",
    "\n",
    "f = plt.figure(figsize=(16, 8))\n",
    "plt.scatter(cs_train, gs_train)\n",
    "plt.scatter(cs_train, gs_train_pred, color = \"r\")\n",
    "plt.show()"
   ]
  },
  {
   "cell_type": "markdown",
   "id": "e4822cec",
   "metadata": {},
   "source": [
    "# Predicting Rating by global sales"
   ]
  },
  {
   "cell_type": "code",
   "execution_count": null,
   "id": "5b7c274c",
   "metadata": {
    "pycharm": {
     "is_executing": true
    }
   },
   "outputs": [],
   "source": [
    "ra_train = pd.DataFrame(train['Rating'])\n",
    "ra_test = pd.DataFrame(test['Rating'])\n",
    "# Import Decision Tree Classifier model from Scikit-Learn\n",
    "from sklearn.tree import DecisionTreeClassifier\n",
    "\n",
    "# Create a Decision Tree Classifier object\n",
    "\n",
    "dectree2 = DecisionTreeClassifier(max_depth = 8)\n",
    "\n",
    "# Train the Decision Tree Classifier model\n",
    "\n",
    "dectree2.fit(gs_train,ra_train)\n",
    "\n",
    "\n",
    "\n",
    "from sklearn.tree import export_graphviz\n",
    "dot_data2 = export_graphviz(dectree2, out_file=None, \n",
    "                                feature_names = gs_train.columns,\n",
    "                                filled=True,\n",
    "                               class_names=['E', 'M', 'T', 'E10+', 'AO', 'K-A', 'RP'])\n",
    "\n",
    "\n",
    "import graphviz                          \n",
    "graphviz.Source(dot_data2)\n",
    "\n",
    "train_pred2 = dectree2.predict(gs_train)\n",
    "test_pred2 = dectree2.predict(gs_test)\n",
    "\n",
    "print(\"Train Classification Accuracy:\",dectree2.score(gs_train,ra_train))\n",
    "print(\"Test Classification Accuracy:\",dectree2.score(gs_test,ra_test))\n",
    "from sklearn.metrics import confusion_matrix\n",
    "f, axes = plt.subplots(1, 2, figsize=(24, 6))\n",
    "train_m = confusion_matrix(ra_train,train_pred2)\n",
    "test_m = confusion_matrix(ra_test,test_pred2)\n",
    "sb.heatmap(train_m,annot = True, fmt=\".0f\", annot_kws={\"size\": 18},ax = axes[0])\n",
    "sb.heatmap(test_m,annot = True, fmt=\".0f\", annot_kws={\"size\": 18},ax = axes[1])\n",
    "plt.show()\n",
    "\n",
    "\n"
   ]
  },
  {
   "cell_type": "markdown",
   "id": "5d62fdba",
   "metadata": {},
   "source": [
    "## Predicting Rating by Genre and globalsales"
   ]
  },
  {
   "cell_type": "code",
   "execution_count": null,
   "id": "99183cbf",
   "metadata": {
    "pycharm": {
     "is_executing": true
    }
   },
   "outputs": [],
   "source": [
    "\n",
    "\n",
    "gegs_train = pd.DataFrame(train[['Genre','Global_Sales']])\n",
    "gegs_test = pd.DataFrame(test[['Genre','Global_Sales']])\n",
    "type(gegs_train)\n",
    "gegs_train['Genre'].replace(['Sports', 'Racing', 'Platform', 'Misc', 'Action', 'Puzzle',\n",
    "       'Shooter', 'Fighting', 'Simulation', 'Role-Playing', 'Adventure',\n",
    "       'Strategy'],[0,1,2,3,4,5,6,7,8,9,10,11], inplace=True)\n",
    "\n",
    "gegs_test['Genre'].replace(['Sports', 'Racing', 'Platform', 'Misc', 'Action', 'Puzzle',\n",
    "       'Shooter', 'Fighting', 'Simulation', 'Role-Playing', 'Adventure',\n",
    "       'Strategy'],[0,1,2,3,4,5,6,7,8,9,10,11], inplace=True)\n",
    "\n",
    "dectree2.fit(gegs_train,ra_train)\n",
    "\n",
    "dot_data2 = export_graphviz(dectree2, out_file=None, \n",
    "                                feature_names = gegs_train.columns,\n",
    "                                filled=True,\n",
    "                               class_names=['E', 'M', 'T', 'E10+', 'AO', 'K-A', 'RP'])\n",
    "\n",
    "train_pred2 = dectree2.predict(gegs_train)\n",
    "test_pred2 = dectree2.predict(gegs_test)\n",
    "print(\"Train Classification Accuracy:\",dectree2.score(gegs_train,ra_train))\n",
    "print(\"Test Classification Accuracy:\",dectree2.score(gegs_test,ra_test))\n",
    "f, axes = plt.subplots(1, 2, figsize=(24, 6))\n",
    "train_m = confusion_matrix(ra_train,train_pred2)\n",
    "test_m = confusion_matrix(ra_test,test_pred2)\n",
    "sb.heatmap(train_m,annot = True, fmt=\".0f\", annot_kws={\"size\": 18},ax = axes[0])\n",
    "sb.heatmap(test_m,annot = True, fmt=\".0f\", annot_kws={\"size\": 18},ax = axes[1])\n",
    "plt.show()"
   ]
  },
  {
   "cell_type": "code",
   "execution_count": null,
   "id": "cba90ce1",
   "metadata": {
    "pycharm": {
     "is_executing": true
    }
   },
   "outputs": [],
   "source": [
    "print(\"helllo world\")"
   ]
  },
  {
   "cell_type": "code",
   "execution_count": null,
   "id": "4bc9865d",
   "metadata": {
    "pycharm": {
     "is_executing": true
    }
   },
   "outputs": [],
   "source": []
  }
 ],
 "metadata": {
  "colab": {
   "provenance": []
  },
  "kernelspec": {
   "display_name": "Python 3 (ipykernel)",
   "language": "python",
   "name": "python3"
  },
  "language_info": {
   "codemirror_mode": {
    "name": "ipython",
    "version": 3
   },
   "file_extension": ".py",
   "mimetype": "text/x-python",
   "name": "python",
   "nbconvert_exporter": "python",
   "pygments_lexer": "ipython3",
   "version": "3.9.13"
  }
 },
 "nbformat": 4,
 "nbformat_minor": 5
}
